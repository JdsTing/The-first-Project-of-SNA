{
 "cells": [
  {
   "attachments": {},
   "cell_type": "markdown",
   "metadata": {},
   "source": [
    "### 先整理了2019/9/1 ~ 11/20- (ID in range(231979739, 232539739, 1)，應有 560,000 篇，\n",
    "#### 去除 重複ID的貼文。\n",
    "#### 去除 所有無效的ID貼文。\n"
   ]
  },
  {
   "cell_type": "code",
   "execution_count": 1,
   "metadata": {},
   "outputs": [],
   "source": [
    "#匯入套件\n",
    "import pandas as pd"
   ]
  },
  {
   "cell_type": "code",
   "execution_count": 2,
   "metadata": {},
   "outputs": [
    {
     "name": "stderr",
     "output_type": "stream",
     "text": [
      "C:\\Users\\Administrator\\Anaconda3\\lib\\site-packages\\IPython\\core\\interactiveshell.py:3044: DtypeWarning: Columns (8,9) have mixed types. Specify dtype option on import or set low_memory=False.\n",
      "  interactivity=interactivity, compiler=compiler, result=result)\n",
      "C:\\Users\\Administrator\\Anaconda3\\lib\\site-packages\\IPython\\core\\interactiveshell.py:3044: DtypeWarning: Columns (6,8,9,36) have mixed types. Specify dtype option on import or set low_memory=False.\n",
      "  interactivity=interactivity, compiler=compiler, result=result)\n"
     ]
    }
   ],
   "source": [
    "# 讀入 csv 文字檔\n",
    "csv_file2 = \"Dard_API_1220_part2.csv\"\n",
    "input_artical2 = pd.read_csv(csv_file2) \n",
    "\n",
    "csv_file3 = \"Dard_API_1220_part3.csv\"\n",
    "input_artical3 = pd.read_csv(csv_file3) \n",
    "\n",
    "csv_file4 = \"Dard_API_1220_part4.csv\"\n",
    "input_artical4 = pd.read_csv(csv_file4) \n",
    "\n",
    "csv_file5 = \"Dard_API_1220_part5.csv\"\n",
    "input_artical5 = pd.read_csv(csv_file5) "
   ]
  },
  {
   "cell_type": "code",
   "execution_count": 3,
   "metadata": {},
   "outputs": [
    {
     "name": "stdout",
     "output_type": "stream",
     "text": [
      "合併爬蟲後的所有檔案 shape: (980603, 44)\n"
     ]
    }
   ],
   "source": [
    "#合併檔案\n",
    "artical2_5 = pd.concat([input_artical2, input_artical3, input_artical4, input_artical5], sort=False)\n",
    "artical2_5.sort_values(by=['id'], inplace=True, ascending=True)\n",
    "artical2_5 = artical2_5.reset_index(drop=True)\n",
    "print(\"合併爬蟲後的所有檔案 shape:\", artical2_5.shape)"
   ]
  },
  {
   "cell_type": "markdown",
   "metadata": {},
   "source": [
    "##### (ID in range(231979739, 232539739, 1)，應 < 560,000 篇"
   ]
  },
  {
   "cell_type": "code",
   "execution_count": 4,
   "metadata": {},
   "outputs": [
    {
     "name": "stdout",
     "output_type": "stream",
     "text": [
      "去重覆ID的貼文後 shape: (521498, 44)\n"
     ]
    }
   ],
   "source": [
    "#去重覆ID的貼文\n",
    "# keep first duplicate row\n",
    "artical2_5 = artical2_5.drop_duplicates()\n",
    "print(\"去重覆ID的貼文後 shape:\", artical2_5.shape)"
   ]
  },
  {
   "cell_type": "code",
   "execution_count": 5,
   "metadata": {},
   "outputs": [
    {
     "name": "stdout",
     "output_type": "stream",
     "text": [
      "去除無效的貼文ID後 shape: (381889, 44)\n"
     ]
    }
   ],
   "source": [
    "#去除無效的貼文 ID\n",
    "artical2_5 = artical2_5[pd.notnull(artical2_5['id'])]\n",
    "artical2_5 = artical2_5.reset_index(drop=True)\n",
    "print(\"去除無效的貼文ID後 shape:\", artical2_5.shape)"
   ]
  },
  {
   "cell_type": "code",
   "execution_count": 9,
   "metadata": {},
   "outputs": [],
   "source": [
    "#存成utf8_sig格式的csv檔\n",
    "artical2_5.to_csv(\"002_Dard_artical2_5.csv\", encoding = \"utf_8_sig\")"
   ]
  },
  {
   "cell_type": "code",
   "execution_count": null,
   "metadata": {},
   "outputs": [],
   "source": []
  },
  {
   "cell_type": "code",
   "execution_count": 10,
   "metadata": {},
   "outputs": [
    {
     "data": {
      "text/html": [
       "<div>\n",
       "<style scoped>\n",
       "    .dataframe tbody tr th:only-of-type {\n",
       "        vertical-align: middle;\n",
       "    }\n",
       "\n",
       "    .dataframe tbody tr th {\n",
       "        vertical-align: top;\n",
       "    }\n",
       "\n",
       "    .dataframe thead th {\n",
       "        text-align: right;\n",
       "    }\n",
       "</style>\n",
       "<table border=\"1\" class=\"dataframe\">\n",
       "  <thead>\n",
       "    <tr style=\"text-align: right;\">\n",
       "      <th></th>\n",
       "      <th>id</th>\n",
       "      <th>createdAt</th>\n",
       "    </tr>\n",
       "  </thead>\n",
       "  <tbody>\n",
       "    <tr>\n",
       "      <th>0</th>\n",
       "      <td>231979739.0</td>\n",
       "      <td>2019-09-01T00:00:43.168Z</td>\n",
       "    </tr>\n",
       "    <tr>\n",
       "      <th>1</th>\n",
       "      <td>231979740.0</td>\n",
       "      <td>2019-09-01T00:02:08.991Z</td>\n",
       "    </tr>\n",
       "    <tr>\n",
       "      <th>2</th>\n",
       "      <td>231979741.0</td>\n",
       "      <td>2019-09-01T00:02:40.197Z</td>\n",
       "    </tr>\n",
       "    <tr>\n",
       "      <th>3</th>\n",
       "      <td>231979743.0</td>\n",
       "      <td>2019-09-01T00:05:27.739Z</td>\n",
       "    </tr>\n",
       "    <tr>\n",
       "      <th>4</th>\n",
       "      <td>231979744.0</td>\n",
       "      <td>2019-09-01T00:05:34.495Z</td>\n",
       "    </tr>\n",
       "  </tbody>\n",
       "</table>\n",
       "</div>"
      ],
      "text/plain": [
       "            id                 createdAt\n",
       "0  231979739.0  2019-09-01T00:00:43.168Z\n",
       "1  231979740.0  2019-09-01T00:02:08.991Z\n",
       "2  231979741.0  2019-09-01T00:02:40.197Z\n",
       "3  231979743.0  2019-09-01T00:05:27.739Z\n",
       "4  231979744.0  2019-09-01T00:05:34.495Z"
      ]
     },
     "execution_count": 10,
     "metadata": {},
     "output_type": "execute_result"
    }
   ],
   "source": [
    "#資料庫最早文章ID及時間\n",
    "artical2_5[['id', 'createdAt']].head()"
   ]
  },
  {
   "cell_type": "code",
   "execution_count": 11,
   "metadata": {},
   "outputs": [
    {
     "data": {
      "text/html": [
       "<div>\n",
       "<style scoped>\n",
       "    .dataframe tbody tr th:only-of-type {\n",
       "        vertical-align: middle;\n",
       "    }\n",
       "\n",
       "    .dataframe tbody tr th {\n",
       "        vertical-align: top;\n",
       "    }\n",
       "\n",
       "    .dataframe thead th {\n",
       "        text-align: right;\n",
       "    }\n",
       "</style>\n",
       "<table border=\"1\" class=\"dataframe\">\n",
       "  <thead>\n",
       "    <tr style=\"text-align: right;\">\n",
       "      <th></th>\n",
       "      <th>id</th>\n",
       "      <th>createdAt</th>\n",
       "    </tr>\n",
       "  </thead>\n",
       "  <tbody>\n",
       "    <tr>\n",
       "      <th>381884</th>\n",
       "      <td>232539733.0</td>\n",
       "      <td>2019-11-20T14:26:06.451Z</td>\n",
       "    </tr>\n",
       "    <tr>\n",
       "      <th>381885</th>\n",
       "      <td>232539734.0</td>\n",
       "      <td>2019-11-20T14:26:17.118Z</td>\n",
       "    </tr>\n",
       "    <tr>\n",
       "      <th>381886</th>\n",
       "      <td>232539735.0</td>\n",
       "      <td>2019-11-20T14:26:30.402Z</td>\n",
       "    </tr>\n",
       "    <tr>\n",
       "      <th>381887</th>\n",
       "      <td>232539737.0</td>\n",
       "      <td>2019-11-20T14:26:54.747Z</td>\n",
       "    </tr>\n",
       "    <tr>\n",
       "      <th>381888</th>\n",
       "      <td>232539738.0</td>\n",
       "      <td>2019-11-20T14:26:59.340Z</td>\n",
       "    </tr>\n",
       "  </tbody>\n",
       "</table>\n",
       "</div>"
      ],
      "text/plain": [
       "                 id                 createdAt\n",
       "381884  232539733.0  2019-11-20T14:26:06.451Z\n",
       "381885  232539734.0  2019-11-20T14:26:17.118Z\n",
       "381886  232539735.0  2019-11-20T14:26:30.402Z\n",
       "381887  232539737.0  2019-11-20T14:26:54.747Z\n",
       "381888  232539738.0  2019-11-20T14:26:59.340Z"
      ]
     },
     "execution_count": 11,
     "metadata": {},
     "output_type": "execute_result"
    }
   ],
   "source": [
    "#資料庫最後文章ID及時間\n",
    "artical2_5[['id', 'createdAt']].tail()"
   ]
  },
  {
   "cell_type": "code",
   "execution_count": null,
   "metadata": {},
   "outputs": [],
   "source": []
  }
 ],
 "metadata": {
  "kernelspec": {
   "display_name": "Python 3",
   "language": "python",
   "name": "python3"
  },
  "language_info": {
   "codemirror_mode": {
    "name": "ipython",
    "version": 3
   },
   "file_extension": ".py",
   "mimetype": "text/x-python",
   "name": "python",
   "nbconvert_exporter": "python",
   "pygments_lexer": "ipython3",
   "version": "3.6.8"
  }
 },
 "nbformat": 4,
 "nbformat_minor": 2
}
